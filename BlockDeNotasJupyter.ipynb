{
 "cells": [
  {
   "cell_type": "code",
   "execution_count": 4,
   "metadata": {},
   "outputs": [
    {
     "data": {
      "application/vnd.jupyter.widget-view+json": {
       "model_id": "7fc6026d4aaa4a7fbb279552c3752048",
       "version_major": 2,
       "version_minor": 0
      },
      "text/plain": [
       "VBox()"
      ]
     },
     "metadata": {},
     "output_type": "display_data"
    },
    {
     "data": {
      "application/vnd.jupyter.widget-view+json": {
       "model_id": "",
       "version_major": 2,
       "version_minor": 0
      },
      "text/plain": [
       "FloatProgress(value=0.0, bar_style='info', description='Progress:', layout=Layout(height='25px', width='50%'),…"
      ]
     },
     "metadata": {},
     "output_type": "display_data"
    },
    {
     "name": "stdout",
     "output_type": "stream",
     "text": [
      "+----------------------+-------------------+----------------+----+----+----------------+-------------------+----------------+----------+----------------------------+---------------------+----------------------+---------------------+\n",
      "|Fecha de notificaciÃ³n|Nombre departamento|Nombre municipio|Edad|Sexo|Tipo de contagio|UbicaciÃ³n del caso|Nombre del paÃ­s|Recuperado|Fecha de inicio de sÃ­ntomas|Fecha de diagnÃ³stico|Fecha de recuperaciÃ³n|Tipo de recuperaciÃ³n|\n",
      "+----------------------+-------------------+----------------+----+----+----------------+-------------------+----------------+----------+----------------------------+---------------------+----------------------+---------------------+\n",
      "|        2/03/2020 0:00|             BOGOTA|          BOGOTA|  19|   F|       Importado|               Casa|          ITALIA|Recuperado|             27/02/2020 0:00|       6/03/2020 0:00|       13/03/2020 0:00|                  PCR|\n",
      "|        6/03/2020 0:00|              VALLE|            BUGA|  34|   M|       Importado|               Casa|         ESPAÃ‘A|Recuperado|              4/03/2020 0:00|       9/03/2020 0:00|       19/03/2020 0:00|                  PCR|\n",
      "|        7/03/2020 0:00|          ANTIOQUIA|        MEDELLIN|  50|   F|       Importado|               Casa|         ESPAÃ‘A|Recuperado|             29/02/2020 0:00|       9/03/2020 0:00|       15/03/2020 0:00|                  PCR|\n",
      "|        8/03/2020 0:00|          CARTAGENA|       CARTAGENA|  85|   F|       Importado|               Casa|  ESTADOS UNIDOS|Recuperado|              2/03/2020 0:00|      11/03/2020 0:00|       17/03/2020 0:00|                  PCR|\n",
      "|        9/03/2020 0:00|             BOGOTA|          BOGOTA|  22|   F|       Importado|               Casa|         ESPAÃ‘A|Recuperado|              6/03/2020 0:00|      11/03/2020 0:00|       21/03/2020 0:00|                  PCR|\n",
      "|        8/03/2020 0:00|             BOGOTA|          BOGOTA|  28|   F|       Importado|               Casa|         ESPAÃ‘A|Recuperado|              7/03/2020 0:00|      11/03/2020 0:00|       23/03/2020 0:00|                  PCR|\n",
      "|       12/03/2020 0:00|             BOGOTA|          BOGOTA|  36|   F|       Importado|               Casa|         ESPAÃ‘A|Recuperado|              6/03/2020 0:00|      12/03/2020 0:00|       21/03/2020 0:00|                  PCR|\n",
      "|       11/03/2020 0:00|             BOGOTA|          BOGOTA|  42|   F|       Importado|               Casa|         ESPAÃ‘A|Recuperado|              6/03/2020 0:00|      12/03/2020 0:00|       31/03/2020 0:00|                  PCR|\n",
      "|       10/03/2020 0:00|              HUILA|           NEIVA|  74|   F|       Importado|               Casa|          ITALIA|Recuperado|              6/03/2020 0:00|      12/03/2020 0:00|        9/04/2020 0:00|                  PCR|\n",
      "|       10/03/2020 0:00|              VALLE|         PALMIRA|  48|   M|       Importado|               Casa|         ESPAÃ‘A|Recuperado|              7/03/2020 0:00|      13/03/2020 0:00|       21/03/2020 0:00|                  PCR|\n",
      "|       13/03/2020 0:00|               META|   VILLAVICENCIO|  30|   F|       Importado|               Casa|         ESPAÃ‘A|Recuperado|              9/03/2020 0:00|      13/03/2020 0:00|       23/03/2020 0:00|                  PCR|\n",
      "|       11/03/2020 0:00|             BOGOTA|          BOGOTA|  61|   F|       Importado|               Casa|          ITALIA|Recuperado|              8/03/2020 0:00|      13/03/2020 0:00|       23/03/2020 0:00|                  PCR|\n",
      "|       11/03/2020 0:00|             BOGOTA|          BOGOTA|  73|   F|       Importado|               Casa|         ESPAÃ‘A|Recuperado|             28/02/2020 0:00|      14/03/2020 0:00|       14/03/2020 0:00|                  PCR|\n",
      "|       11/03/2020 0:00|             BOGOTA|          BOGOTA|  54|   M|       Importado|               Casa|         ESPAÃ‘A|Recuperado|              7/03/2020 0:00|      14/03/2020 0:00|        7/04/2020 0:00|               Tiempo|\n",
      "|       12/03/2020 0:00|          ANTIOQUIA|        RIONEGRO|  36|   M|       Importado|               Casa|  ESTADOS UNIDOS|Recuperado|              9/03/2020 0:00|      14/03/2020 0:00|       24/03/2020 0:00|                  PCR|\n",
      "|       12/03/2020 0:00|             BOGOTA|          BOGOTA|  18|   F|       Importado|               Casa|         ESPAÃ‘A|Recuperado|             12/03/2020 0:00|      14/03/2020 0:00|       27/03/2020 0:00|                  PCR|\n",
      "|       13/03/2020 0:00|              VALLE|            CALI|  49|   M|       Importado|               Casa|         ESPAÃ‘A|Recuperado|             10/03/2020 0:00|      13/03/2020 0:00|       12/05/2020 0:00|                  PCR|\n",
      "|       12/03/2020 0:00|          RISARALDA|    DOSQUEBRADAS|  22|   M|       Importado|               Casa|  ESTADOS UNIDOS|Recuperado|             10/03/2020 0:00|      14/03/2020 0:00|        8/04/2020 0:00|                  PCR|\n",
      "|       13/03/2020 0:00|    NORTE SANTANDER|          CUCUTA|  48|   F|       Importado|               Casa|         ESPAÃ‘A|Recuperado|             11/03/2020 0:00|      15/03/2020 0:00|       25/03/2020 0:00|                  PCR|\n",
      "|       12/03/2020 0:00|             CALDAS|       MANIZALES|  65|   M|       Importado|               Casa|  ESTADOS UNIDOS|Recuperado|             12/03/2020 0:00|      13/03/2020 0:00|       26/03/2020 0:00|                  PCR|\n",
      "+----------------------+-------------------+----------------+----+----+----------------+-------------------+----------------+----------+----------------------------+---------------------+----------------------+---------------------+\n",
      "only showing top 20 rows"
     ]
    }
   ],
   "source": [
    "df = spark.read.csv('s3://trabajofinaltet/refined/covid-analizar.csv',inferSchema = True, header = True)\n",
    "df = df.dropna(\"any\")\n",
    "df.show()"
   ]
  },
  {
   "cell_type": "code",
   "execution_count": 8,
   "metadata": {},
   "outputs": [
    {
     "data": {
      "application/vnd.jupyter.widget-view+json": {
       "model_id": "88e2ca96c86741a1b14db8afbd3e19a1",
       "version_major": 2,
       "version_minor": 0
      },
      "text/plain": [
       "VBox()"
      ]
     },
     "metadata": {},
     "output_type": "display_data"
    },
    {
     "data": {
      "application/vnd.jupyter.widget-view+json": {
       "model_id": "",
       "version_major": 2,
       "version_minor": 0
      },
      "text/plain": [
       "FloatProgress(value=0.0, bar_style='info', description='Progress:', layout=Layout(height='25px', width='50%'),…"
      ]
     },
     "metadata": {},
     "output_type": "display_data"
    },
    {
     "name": "stdout",
     "output_type": "stream",
     "text": [
      "+----------------+------------------+\n",
      "|Nombre municipio|         avg(Edad)|\n",
      "+----------------+------------------+\n",
      "|          SOACHA|              24.0|\n",
      "|           NEIVA|              74.0|\n",
      "|      SUBACHOQUE|              29.0|\n",
      "|          CAJICA|              38.5|\n",
      "|    DOSQUEBRADAS|              22.0|\n",
      "|         PEREIRA|              25.0|\n",
      "|   VILLAVICENCIO|              30.0|\n",
      "|        RIONEGRO|              36.0|\n",
      "|            BUGA|              34.0|\n",
      "|          CUCUTA|              51.0|\n",
      "|         ARMENIA|              32.0|\n",
      "|            CALI|45.285714285714285|\n",
      "|          BOGOTA|          41.15625|\n",
      "|   FLORIDABLANCA|              24.0|\n",
      "|     BUCARAMANGA|              39.0|\n",
      "|       CARTAGENA|43.333333333333336|\n",
      "|         PALMIRA|              48.0|\n",
      "|    BARRANQUILLA|              20.5|\n",
      "|       MANIZALES|              65.0|\n",
      "|        MEDELLIN|              52.5|\n",
      "+----------------+------------------+"
     ]
    }
   ],
   "source": [
    "df.groupby('Nombre municipio').agg({'Edad':'mean'}).show()"
   ]
  },
  {
   "cell_type": "code",
   "execution_count": 11,
   "metadata": {},
   "outputs": [
    {
     "data": {
      "application/vnd.jupyter.widget-view+json": {
       "model_id": "2d8ac773adc2497bbe177a5b4d43d0d1",
       "version_major": 2,
       "version_minor": 0
      },
      "text/plain": [
       "VBox()"
      ]
     },
     "metadata": {},
     "output_type": "display_data"
    },
    {
     "data": {
      "application/vnd.jupyter.widget-view+json": {
       "model_id": "",
       "version_major": 2,
       "version_minor": 0
      },
      "text/plain": [
       "FloatProgress(value=0.0, bar_style='info', description='Progress:', layout=Layout(height='25px', width='50%'),…"
      ]
     },
     "metadata": {},
     "output_type": "display_data"
    },
    {
     "name": "stdout",
     "output_type": "stream",
     "text": [
      "+-------------------+---------+\n",
      "|Nombre departamento|max(Edad)|\n",
      "+-------------------+---------+\n",
      "|          ANTIOQUIA|       62|\n",
      "|       CUNDINAMARCA|       55|\n",
      "|              VALLE|       81|\n",
      "|              CAUCA|       61|\n",
      "|            QUINDIO|       46|\n",
      "|              HUILA|       74|\n",
      "|              CESAR|       30|\n",
      "|          SANTANDER|       49|\n",
      "|    NORTE SANTANDER|       54|\n",
      "|             CALDAS|       65|\n",
      "|          RISARALDA|       79|\n",
      "|               META|       30|\n",
      "|             TOLIMA|       26|\n",
      "|             BOGOTA|       73|\n",
      "|     STA MARTA D.E.|       20|\n",
      "|          CARTAGENA|       85|\n",
      "|       BARRANQUILLA|       52|\n",
      "+-------------------+---------+"
     ]
    }
   ],
   "source": [
    "df.groupby('Nombre departamento').agg({'Edad':'max'}).show()"
   ]
  },
  {
   "cell_type": "code",
   "execution_count": 8,
   "metadata": {},
   "outputs": [
    {
     "data": {
      "application/vnd.jupyter.widget-view+json": {
       "model_id": "d5633247e7e54e6194c744f51c1bb971",
       "version_major": 2,
       "version_minor": 0
      },
      "text/plain": [
       "VBox()"
      ]
     },
     "metadata": {},
     "output_type": "display_data"
    },
    {
     "data": {
      "application/vnd.jupyter.widget-view+json": {
       "model_id": "",
       "version_major": 2,
       "version_minor": 0
      },
      "text/plain": [
       "FloatProgress(value=0.0, bar_style='info', description='Progress:', layout=Layout(height='25px', width='50%'),…"
      ]
     },
     "metadata": {},
     "output_type": "display_data"
    },
    {
     "name": "stdout",
     "output_type": "stream",
     "text": [
      "+--------------------+---------+\n",
      "|    Nombre del paÃ­s|min(Edad)|\n",
      "+--------------------+---------+\n",
      "|             FRANCIA|       26|\n",
      "|              GRECIA|       45|\n",
      "|             JAMAICA|       40|\n",
      "|             CROACIA|       62|\n",
      "|              ITALIA|       19|\n",
      "|           GUATEMALA|       41|\n",
      "|REINO UNIDO DE GR...|       68|\n",
      "|            ALEMANIA|       37|\n",
      "|              BRASIL|       34|\n",
      "|              PANAMA|       35|\n",
      "|             ESPAÃ‘A|       18|\n",
      "|            TURQUÃA|       26|\n",
      "|             MÃ‰XICO|       65|\n",
      "|      ESTADOS UNIDOS|       17|\n",
      "|             ECUADOR|       24|\n",
      "|REPÃšBLICA DOMINI...|       30|\n",
      "+--------------------+---------+"
     ]
    }
   ],
   "source": [
    "df.groupby('Nombre del paÃ­s').agg({'Edad':'min'}).show()"
   ]
  },
  {
   "cell_type": "code",
   "execution_count": 10,
   "metadata": {},
   "outputs": [
    {
     "data": {
      "application/vnd.jupyter.widget-view+json": {
       "model_id": "6634c6051ef9406988c0ea84e3769d74",
       "version_major": 2,
       "version_minor": 0
      },
      "text/plain": [
       "VBox()"
      ]
     },
     "metadata": {},
     "output_type": "display_data"
    },
    {
     "data": {
      "application/vnd.jupyter.widget-view+json": {
       "model_id": "",
       "version_major": 2,
       "version_minor": 0
      },
      "text/plain": [
       "FloatProgress(value=0.0, bar_style='info', description='Progress:', layout=Layout(height='25px', width='50%'),…"
      ]
     },
     "metadata": {},
     "output_type": "display_data"
    },
    {
     "name": "stdout",
     "output_type": "stream",
     "text": [
      "+-------------------+-----------------------+\n",
      "|Nombre departamento|count(Tipo de contagio)|\n",
      "+-------------------+-----------------------+\n",
      "|          ANTIOQUIA|                     19|\n",
      "|       CUNDINAMARCA|                      8|\n",
      "|              VALLE|                     20|\n",
      "|              CAUCA|                      2|\n",
      "|            QUINDIO|                      3|\n",
      "|              HUILA|                      2|\n",
      "|              CESAR|                      1|\n",
      "|          SANTANDER|                      3|\n",
      "|    NORTE SANTANDER|                      4|\n",
      "|             CALDAS|                      4|\n",
      "|          RISARALDA|                     11|\n",
      "|               META|                      1|\n",
      "|             TOLIMA|                      1|\n",
      "|             BOGOTA|                     72|\n",
      "|     STA MARTA D.E.|                      1|\n",
      "|          CARTAGENA|                      6|\n",
      "|       BARRANQUILLA|                      6|\n",
      "+-------------------+-----------------------+"
     ]
    }
   ],
   "source": [
    "df.groupby('Nombre departamento').agg({'Tipo de contagio':'count'}).show()"
   ]
  },
  {
   "cell_type": "code",
   "execution_count": 7,
   "metadata": {},
   "outputs": [
    {
     "data": {
      "application/vnd.jupyter.widget-view+json": {
       "model_id": "81e1bbd223e6456ea4a40cde2286f259",
       "version_major": 2,
       "version_minor": 0
      },
      "text/plain": [
       "VBox()"
      ]
     },
     "metadata": {},
     "output_type": "display_data"
    },
    {
     "data": {
      "application/vnd.jupyter.widget-view+json": {
       "model_id": "",
       "version_major": 2,
       "version_minor": 0
      },
      "text/plain": [
       "FloatProgress(value=0.0, bar_style='info', description='Progress:', layout=Layout(height='25px', width='50%'),…"
      ]
     },
     "metadata": {},
     "output_type": "display_data"
    },
    {
     "name": "stdout",
     "output_type": "stream",
     "text": [
      "+--------------------+-----------------------+\n",
      "|    Nombre del paÃ­s|count(Nombre del paÃ­s)|\n",
      "+--------------------+-----------------------+\n",
      "|             FRANCIA|                      2|\n",
      "|              GRECIA|                      2|\n",
      "|             JAMAICA|                      1|\n",
      "|             CROACIA|                      1|\n",
      "|              ITALIA|                      8|\n",
      "|           GUATEMALA|                      1|\n",
      "|REINO UNIDO DE GR...|                      1|\n",
      "|            ALEMANIA|                      2|\n",
      "|              BRASIL|                      2|\n",
      "|              PANAMA|                      3|\n",
      "|             ESPAÃ‘A|                     91|\n",
      "|            TURQUÃA|                      6|\n",
      "|             MÃ‰XICO|                      2|\n",
      "|      ESTADOS UNIDOS|                     34|\n",
      "|             ECUADOR|                      6|\n",
      "|REPÃšBLICA DOMINI...|                      2|\n",
      "+--------------------+-----------------------+"
     ]
    }
   ],
   "source": [
    "df.groupby('Nombre del paÃ­s').agg({'Nombre del paÃ­s':'count'}).show()"
   ]
  },
  {
   "cell_type": "code",
   "execution_count": 26,
   "metadata": {},
   "outputs": [
    {
     "data": {
      "application/vnd.jupyter.widget-view+json": {
       "model_id": "b21315329df547b28f065436d5f62e8d",
       "version_major": 2,
       "version_minor": 0
      },
      "text/plain": [
       "VBox()"
      ]
     },
     "metadata": {},
     "output_type": "display_data"
    },
    {
     "data": {
      "application/vnd.jupyter.widget-view+json": {
       "model_id": "",
       "version_major": 2,
       "version_minor": 0
      },
      "text/plain": [
       "FloatProgress(value=0.0, bar_style='info', description='Progress:', layout=Layout(height='25px', width='50%'),…"
      ]
     },
     "metadata": {},
     "output_type": "display_data"
    },
    {
     "name": "stderr",
     "output_type": "stream",
     "text": [
      "name 'newdata' is not defined\n",
      "Traceback (most recent call last):\n",
      "NameError: name 'newdata' is not defined\n",
      "\n"
     ]
    }
   ],
   "source": [
    "newdata.groupBy('Edad').count().show()"
   ]
  },
  {
   "cell_type": "code",
   "execution_count": null,
   "metadata": {},
   "outputs": [],
   "source": []
  }
 ],
 "metadata": {
  "kernelspec": {
   "display_name": "PySpark",
   "language": "",
   "name": "pysparkkernel"
  },
  "language_info": {
   "codemirror_mode": {
    "name": "python",
    "version": 2
   },
   "mimetype": "text/x-python",
   "name": "pyspark",
   "pygments_lexer": "python2"
  }
 },
 "nbformat": 4,
 "nbformat_minor": 4
}
